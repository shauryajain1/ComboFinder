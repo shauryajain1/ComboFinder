{
  "nbformat": 4,
  "nbformat_minor": 0,
  "metadata": {
    "colab": {
      "provenance": [],
      "authorship_tag": "ABX9TyNAVfX/gv/2VcU3U1eRy8Qe",
      "include_colab_link": true
    },
    "kernelspec": {
      "name": "python3",
      "display_name": "Python 3"
    },
    "language_info": {
      "name": "python"
    }
  },
  "cells": [
    {
      "cell_type": "markdown",
      "metadata": {
        "id": "view-in-github",
        "colab_type": "text"
      },
      "source": [
        "<a href=\"https://colab.research.google.com/github/shauryajain1/ComboFinder/blob/main/ComboFinder.ipynb\" target=\"_parent\"><img src=\"https://colab.research.google.com/assets/colab-badge.svg\" alt=\"Open In Colab\"/></a>"
      ]
    },
    {
      "cell_type": "code",
      "execution_count": 1,
      "metadata": {
        "colab": {
          "base_uri": "https://localhost:8080/"
        },
        "id": "qEK5qzishegl",
        "outputId": "d6fd9446-21b8-4d3e-fbb4-af3a66727fec"
      },
      "outputs": [
        {
          "output_type": "stream",
          "name": "stdout",
          "text": [
            "('p10', 'p12', 'p2', 'p3', 'p5', 'p7', 'p8')\n",
            "('p1', 'p11', 'p13', 'p14', 'p2', 'p3', 'p4', 'p9')\n",
            "('p1', 'p10', 'p11', 'p4', 'p6', 'p7', 'p9')\n",
            "('p11', 'p12', 'p13', 'p4', 'p6', 'p8')\n",
            "('p1', 'p13', 'p14', 'p4', 'p5', 'p6', 'p7', 'p8')\n",
            "('p10', 'p12', 'p14', 'p3', 'p4', 'p5', 'p7')\n",
            "('p1', 'p12', 'p2', 'p3', 'p4', 'p5', 'p6', 'p8', 'p9')\n",
            "('p12', 'p14', 'p6', 'p7', 'p8', 'p9')\n",
            "('p11', 'p12', 'p14', 'p2', 'p3', 'p5', 'p9')\n",
            "('p10', 'p11', 'p14', 'p3', 'p5', 'p7', 'p8')\n",
            "('p1', 'p10', 'p13', 'p2', 'p3', 'p5', 'p8', 'p9')\n",
            "('p10', 'p12', 'p13', 'p6', 'p7')\n",
            "('p1', 'p10', 'p12', 'p2', 'p4', 'p5', 'p7', 'p8')\n",
            "('p10', 'p13', 'p14', 'p3', 'p8', 'p9')\n",
            "('p1', 'p13', 'p14', 'p3', 'p5', 'p6', 'p8', 'p9')\n",
            "('p11', 'p12', 'p14', 'p2', 'p3', 'p5', 'p7')\n",
            "('p11', 'p12', 'p13', 'p8', 'p9')\n",
            "('p12', 'p14', 'p3', 'p4', 'p6', 'p8', 'p9')\n",
            "('p12', 'p13', 'p14', 'p5', 'p6', 'p7')\n",
            "('p11', 'p12', 'p13', 'p2', 'p6', 'p7')\n",
            "('p10', 'p13', 'p2', 'p3', 'p6', 'p7', 'p9')\n",
            "('p12', 'p3', 'p4', 'p6', 'p7', 'p8', 'p9')\n",
            "('p11', 'p12', 'p14', 'p2', 'p3', 'p6', 'p8')\n",
            "('p1', 'p10', 'p14', 'p2', 'p3', 'p7', 'p8', 'p9')\n",
            "('p1', 'p10', 'p11', 'p14', 'p3', 'p8', 'p9')\n",
            "('p1', 'p12', 'p13', 'p2', 'p4', 'p5', 'p6', 'p8')\n",
            "('p1', 'p10', 'p12', 'p4', 'p5', 'p7', 'p9')\n",
            "('p1', 'p12', 'p14', 'p3', 'p5', 'p6', 'p8', 'p9')\n",
            "('p1', 'p12', 'p13', 'p14', 'p3', 'p4', 'p7')\n",
            "('p1', 'p10', 'p11', 'p4', 'p6', 'p8', 'p9')\n",
            "('p1', 'p14', 'p2', 'p3', 'p4', 'p5', 'p7', 'p8', 'p9')\n",
            "('p1', 'p10', 'p11', 'p3', 'p4', 'p6', 'p8', 'p9')\n",
            "('p12', 'p13', 'p2', 'p6', 'p8', 'p9')\n",
            "('p12', 'p14', 'p2', 'p5', 'p7', 'p8', 'p9')\n",
            "('p10', 'p13', 'p14', 'p2', 'p3', 'p6', 'p9')\n",
            "('p1', 'p10', 'p13', 'p14', 'p2', 'p8', 'p9')\n",
            "('p1', 'p10', 'p11', 'p12', 'p14', 'p4', 'p5')\n",
            "('p1', 'p11', 'p12', 'p13', 'p3', 'p4', 'p5')\n",
            "('p1', 'p11', 'p13', 'p14', 'p4', 'p7', 'p8')\n",
            "('p1', 'p10', 'p11', 'p3', 'p4', 'p5', 'p8', 'p9')\n",
            "('p1', 'p10', 'p12', 'p13', 'p14', 'p2', 'p5')\n",
            "('p11', 'p13', 'p14', 'p2', 'p5', 'p6', 'p7')\n",
            "('p11', 'p12', 'p13', 'p3', 'p5', 'p6')\n",
            "('p10', 'p12', 'p14', 'p3', 'p4', 'p5', 'p6')\n",
            "('p1', 'p14', 'p2', 'p4', 'p5', 'p6', 'p7', 'p8', 'p9')\n",
            "('p1', 'p10', 'p12', 'p14', 'p2', 'p8', 'p9')\n",
            "('p1', 'p10', 'p12', 'p14', 'p4', 'p6', 'p9')\n",
            "('p1', 'p10', 'p14', 'p3', 'p5', 'p6', 'p7', 'p8')\n",
            "('p10', 'p11', 'p13', 'p14', 'p4', 'p6')\n",
            "('p1', 'p10', 'p13', 'p3', 'p4', 'p5', 'p7', 'p8')\n",
            "('p1', 'p11', 'p12', 'p2', 'p3', 'p4', 'p8', 'p9')\n",
            "('p10', 'p11', 'p14', 'p2', 'p3', 'p6', 'p7')\n",
            "('p1', 'p11', 'p13', 'p2', 'p3', 'p4', 'p7', 'p8')\n",
            "\n",
            "Total Sets:  53 \n",
            "\n"
          ]
        }
      ],
      "source": [
        "#-------------------------------------------------------------\n",
        "# Step 1: Library inclusion                             \n",
        "#-------------------------------------------------------------\n",
        "import random as r\n",
        "\n",
        "\n",
        "#-------------------------------------------------------------\n",
        "# Step 2: Parameter Setting\n",
        "#-------------------------------------------------------------\n",
        "ProductList = {'p1':10, 'p2':15, 'p3':20, 'p4':25, 'p5':30, 'p6':35, 'p7':50,\n",
        "               'p8':40, 'p9':55, 'p10':60, 'p11':65, 'p12':75, 'p13':70,\n",
        "               'p14':45}\n",
        "LB          = 290\n",
        "UB          = 310\n",
        "ResultList  = set()   # Store Result List i.e. list of sets whose sum is between 90 and 210.\n",
        "Iterations  = 1000    # Number of Inerations\n",
        "\n",
        "\n",
        "#-------------------------------------------------------------\n",
        "# Step3: Start Program\n",
        "#-------------------------------------------------------------\n",
        "for i in range(Iterations):\n",
        "\n",
        "    # Select combo size (i.e. number of products in a combo)\n",
        "    SetSize = r.randint(2, len(ProductList)-1)\n",
        "\n",
        "    # Select number of elements from Set\n",
        "    ComboList = r.sample(list(ProductList.keys()),SetSize)\n",
        "    ComboList.sort()\n",
        "\n",
        "    # Sum the products in ColboList\n",
        "    ComboSum = sum([ ProductList[i] for i in ComboList])\n",
        "\n",
        "    # Check the Sum Between LB and UB\n",
        "    if ComboSum>= LB and ComboSum<= UB:\n",
        "      ResultList.add(tuple(ComboList))\n",
        "\n",
        "\n",
        "# Print all the sets whose sum is between LB and UB\n",
        "for r in ResultList:\n",
        "\tprint (r)\n",
        "\n",
        "# Print total sets\n",
        "print (\"\\nTotal Sets: \", len(ResultList), \"\\n\")\n"
      ]
    }
  ]
}